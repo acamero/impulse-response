{
 "cells": [
  {
   "cell_type": "code",
   "execution_count": 18,
   "id": "d7f6840d-aec0-41f7-b5e6-60d8d558d10d",
   "metadata": {},
   "outputs": [],
   "source": [
    "import tensorflow as tf\n",
    "import matplotlib.pyplot as pl\n",
    "import numpy as np\n",
    "from scipy import signal\n",
    "import itertools"
   ]
  },
  {
   "cell_type": "code",
   "execution_count": 41,
   "id": "a8810894-6f9a-4e8d-934a-856c52eb28f1",
   "metadata": {},
   "outputs": [
    {
     "name": "stdout",
     "output_type": "stream",
     "text": [
      "[0. 0. 0. 0. 0. 1. 0. 0. 0. 0.]\n"
     ]
    },
    {
     "data": {
      "image/png": "[encoded data removed]",
      "text/plain": [
       "<Figure size 432x288 with 1 Axes>"
      ]
     },
     "metadata": {
      "needs_background": "light"
     },
     "output_type": "display_data"
    }
   ],
   "source": [
    "# 1D impulse\n",
    "impulse = signal.unit_impulse(10, 'mid')\n",
    "pl.plot(impulse)\n",
    "print(impulse)"
   ]
  },
  {
   "cell_type": "code",
   "execution_count": 43,
   "id": "5d9a978b-fb51-4728-9790-4fc8a99b3136",
   "metadata": {},
   "outputs": [
    {
     "name": "stdout",
     "output_type": "stream",
     "text": [
      "[[0. 0. 0. 0. 0.]\n",
      " [0. 0. 0. 0. 0.]\n",
      " [0. 0. 1. 0. 0.]\n",
      " [0. 0. 0. 0. 0.]\n",
      " [0. 0. 0. 0. 0.]]\n"
     ]
    }
   ],
   "source": [
    "# 2D impulse\n",
    "impulse = signal.unit_impulse((5,5), 'mid')\n",
    "print(impulse)"
   ]
  },
  {
   "cell_type": "code",
   "execution_count": 135,
   "id": "fb4a8d23-a2b1-4357-997d-785231b0e788",
   "metadata": {},
   "outputs": [],
   "source": [
    "# shape should be [samples, time steps, features]\n",
    "samps = 100\n",
    "impulse = signal.unit_impulse(samps, 3)\n",
    "impulse = impulse.reshape((1,samps,1))"
   ]
  },
  {
   "cell_type": "code",
   "execution_count": 138,
   "id": "0ca75698-bf79-4d8e-8c56-b5c2745fdf04",
   "metadata": {},
   "outputs": [],
   "source": [
    "def lstm_model(\n",
    "        input_shape,\n",
    "        architecture=[1,1], \n",
    "        rec_init='orthogonal',\n",
    "        bias_init='zeros'):\n",
    "    assert len(architecture) > 1, \"The architecture should include at least input and output\"\n",
    "    model = tf.keras.models.Sequential()\n",
    "    for i in range(len(architecture) - 1):\n",
    "        model.add(tf.keras.layers.LSTM(\n",
    "            units=architecture[i], \n",
    "            activation='tanh', \n",
    "            recurrent_activation='sigmoid', \n",
    "            return_sequences=True,\n",
    "            recurrent_initializer=rec_init,\n",
    "            bias_initializer=bias_init,\n",
    "            input_shape=input_shape,\n",
    "        ))\n",
    "    model.add(tf.keras.layers.Dense(units=architecture[-1], activation='sigmoid'))\n",
    "    # model.compile(loss='mean_squared_error', optimizer='adam')\n",
    "    model.build()\n",
    "    return model"
   ]
  },
  {
   "cell_type": "code",
   "execution_count": 139,
   "id": "e24e9d23-c3c6-4914-b653-1cc6580a38ed",
   "metadata": {},
   "outputs": [
    {
     "name": "stdout",
     "output_type": "stream",
     "text": [
      "Model: \"sequential_33\"\n",
      "_________________________________________________________________\n",
      "Layer (type)                 Output Shape              Param #   \n",
      "=================================================================\n",
      "lstm_33 (LSTM)               (None, 100, 3)            60        \n",
      "_________________________________________________________________\n",
      "lstm_34 (LSTM)               (None, 100, 3)            84        \n",
      "_________________________________________________________________\n",
      "dense_27 (Dense)             (None, 100, 1)            4         \n",
      "=================================================================\n",
      "Total params: 148\n",
      "Trainable params: 148\n",
      "Non-trainable params: 0\n",
      "_________________________________________________________________\n"
     ]
    },
    {
     "data": {
      "text/plain": [
       "array([[[0.5       ],\n",
       "        [0.5       ],\n",
       "        [0.5       ],\n",
       "        [0.50293726],\n",
       "        [0.50521576],\n",
       "        [0.5061813 ],\n",
       "        [0.5063702 ],\n",
       "        [0.5061213 ],\n",
       "        [0.5056445 ],\n",
       "        [0.50506765],\n",
       "        [0.5044666 ],\n",
       "        [0.5038846 ],\n",
       "        [0.50334466],\n",
       "        [0.5028572 ],\n",
       "        [0.50242543],\n",
       "        [0.5020482 ],\n",
       "        [0.5017219 ],\n",
       "        [0.50144196],\n",
       "        [0.5012033 ],\n",
       "        [0.50100094],\n",
       "        [0.5008301 ],\n",
       "        [0.5006866 ],\n",
       "        [0.5005663 ],\n",
       "        [0.5004659 ],\n",
       "        [0.5003824 ],\n",
       "        [0.5003131 ],\n",
       "        [0.50025576],\n",
       "        [0.50020844],\n",
       "        [0.50016946],\n",
       "        [0.5001375 ],\n",
       "        [0.5001113 ],\n",
       "        [0.5000899 ],\n",
       "        [0.5000725 ],\n",
       "        [0.50005823],\n",
       "        [0.50004673],\n",
       "        [0.50003743],\n",
       "        [0.5000299 ],\n",
       "        [0.50002384],\n",
       "        [0.50001895],\n",
       "        [0.500015  ],\n",
       "        [0.5000119 ],\n",
       "        [0.5000094 ],\n",
       "        [0.5000074 ],\n",
       "        [0.50000584],\n",
       "        [0.50000453],\n",
       "        [0.5000036 ],\n",
       "        [0.50000274],\n",
       "        [0.50000215],\n",
       "        [0.50000167],\n",
       "        [0.5000013 ],\n",
       "        [0.500001  ],\n",
       "        [0.5000008 ],\n",
       "        [0.5000006 ],\n",
       "        [0.5000004 ],\n",
       "        [0.5000003 ],\n",
       "        [0.50000024],\n",
       "        [0.5000002 ],\n",
       "        [0.5000001 ],\n",
       "        [0.5000001 ],\n",
       "        [0.50000006],\n",
       "        [0.50000006],\n",
       "        [0.50000006],\n",
       "        [0.5       ],\n",
       "        [0.5       ],\n",
       "        [0.5       ],\n",
       "        [0.5       ],\n",
       "        [0.5       ],\n",
       "        [0.5       ],\n",
       "        [0.5       ],\n",
       "        [0.5       ],\n",
       "        [0.5       ],\n",
       "        [0.5       ],\n",
       "        [0.5       ],\n",
       "        [0.5       ],\n",
       "        [0.5       ],\n",
       "        [0.5       ],\n",
       "        [0.5       ],\n",
       "        [0.5       ],\n",
       "        [0.5       ],\n",
       "        [0.5       ],\n",
       "        [0.5       ],\n",
       "        [0.5       ],\n",
       "        [0.5       ],\n",
       "        [0.5       ],\n",
       "        [0.5       ],\n",
       "        [0.5       ],\n",
       "        [0.5       ],\n",
       "        [0.5       ],\n",
       "        [0.5       ],\n",
       "        [0.5       ],\n",
       "        [0.5       ],\n",
       "        [0.5       ],\n",
       "        [0.5       ],\n",
       "        [0.5       ],\n",
       "        [0.5       ],\n",
       "        [0.5       ],\n",
       "        [0.5       ],\n",
       "        [0.5       ],\n",
       "        [0.5       ],\n",
       "        [0.5       ]]], dtype=float32)"
      ]
     },
     "execution_count": 139,
     "metadata": {},
     "output_type": "execute_result"
    }
   ],
   "source": [
    "model = lstm_model(\n",
    "    input_shape=(impulse.shape[1], impulse.shape[2]), \n",
    "    architecture=[3,3,1])\n",
    "model.summary()\n",
    "model.predict(impulse)"
   ]
  },
  {
   "cell_type": "code",
   "execution_count": 172,
   "id": "5f0cd78b-74e4-460e-80a1-f552cb3e8cf4",
   "metadata": {},
   "outputs": [],
   "source": [
    "init_set = itertools.product([0,1,2], repeat=3)\n",
    "architectures = list()\n",
    "for comb in list(init_set):\n",
    "    candidate = [i for i in comb if i != 0]\n",
    "    if len(candidate) > 1:\n",
    "        architectures.append(candidate)"
   ]
  },
  {
   "cell_type": "code",
   "execution_count": 173,
   "id": "31986b13-3db9-4fcd-9939-7bb4858ce364",
   "metadata": {},
   "outputs": [
    {
     "data": {
      "text/plain": [
       "[[1, 1],\n",
       " [1, 2],\n",
       " [2, 1],\n",
       " [2, 2],\n",
       " [1, 1],\n",
       " [1, 2],\n",
       " [1, 1],\n",
       " [1, 1, 1],\n",
       " [1, 1, 2],\n",
       " [1, 2],\n",
       " [1, 2, 1],\n",
       " [1, 2, 2],\n",
       " [2, 1],\n",
       " [2, 2],\n",
       " [2, 1],\n",
       " [2, 1, 1],\n",
       " [2, 1, 2],\n",
       " [2, 2],\n",
       " [2, 2, 1],\n",
       " [2, 2, 2]]"
      ]
     },
     "execution_count": 173,
     "metadata": {},
     "output_type": "execute_result"
    }
   ],
   "source": [
    "architectures\n"
   ]
  }
 ],
 "metadata": {
  "kernelspec": {
   "display_name": "Python 3 (ipykernel)",
   "language": "python",
   "name": "python3"
  },
  "language_info": {
   "codemirror_mode": {
    "name": "ipython",
    "version": 3
   },
   "file_extension": ".py",
   "mimetype": "text/x-python",
   "name": "python",
   "nbconvert_exporter": "python",
   "pygments_lexer": "ipython3",
   "version": "3.8.0"
  }
 },
 "nbformat": 4,
 "nbformat_minor": 5
}
