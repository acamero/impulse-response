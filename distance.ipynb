{
 "cells": [
  {
   "cell_type": "code",
   "execution_count": 60,
   "id": "ba7c7a1e-2a6d-4120-bbbf-02bcd3fbb45e",
   "metadata": {},
   "outputs": [],
   "source": [
    "import torch\n",
    "\n",
    "from naslib.search_spaces.nasbench101 import graph\n",
    "from naslib import utils\n",
    "from naslib.utils import setup_logger\n",
    "from naslib.utils import get_dataset_api\n",
    "from naslib.search_spaces.core.query_metrics import Metric"
   ]
  },
  {
   "cell_type": "code",
   "execution_count": 58,
   "id": "418c1c45-91bc-4914-b009-d0eec603d55e",
   "metadata": {},
   "outputs": [
    {
     "name": "stdout",
     "output_type": "stream",
     "text": [
      "Loading dataset from file... This may take a few minutes...\n",
      "Loaded dataset in 7 seconds\n"
     ]
    }
   ],
   "source": [
    "dataset_api = get_dataset_api('nasbench101', None)"
   ]
  },
  {
   "cell_type": "code",
   "execution_count": 102,
   "id": "bea2038a-5dce-46cf-a5b8-eca5b2b36fa1",
   "metadata": {},
   "outputs": [],
   "source": [
    "# load the search space\n",
    "search_space = graph.NasBench101SearchSpace()\n",
    "\n",
    "def init_all(model, init_func, *params, **kwargs):\n",
    "    for p in model.parameters():\n",
    "        init_func(p, *params, **kwargs)"
   ]
  },
  {
   "cell_type": "code",
   "execution_count": 107,
   "id": "0aaaed87-a719-41c7-8c9a-546a09872648",
   "metadata": {},
   "outputs": [
    {
     "name": "stdout",
     "output_type": "stream",
     "text": [
      "tensor([[-14.3642,  -1.2093,  48.0616, -38.5363, -94.7019,  40.1212, -23.1031,\n",
      "          41.3809,  16.5359,  29.0815],\n",
      "        [-34.5444, -21.6482,  47.4450, -26.6883, -75.4504,  44.0432, -19.0839,\n",
      "          42.8978,   5.2774,  23.6642]], grad_fn=<AddmmBackward0>)\n",
      "tensor([[  4.2589, -43.9412,  80.2374,  13.2795, -35.8382, -19.0611, -14.5941,\n",
      "          -9.6030, -21.1214, -56.0678],\n",
      "        [  1.6917, -29.9484,  79.4799,  22.8502, -48.0461,   6.0933, -15.4071,\n",
      "          -4.1062,   0.2945, -44.4002]], grad_fn=<AddmmBackward0>)\n",
      "tensor([[ 11.8846,   7.3094,  -7.8517,  30.2605, -93.3437, -12.7218, -69.4709,\n",
      "           6.9822,  12.7760, -25.5242],\n",
      "        [  2.9314,  -3.0508,  -0.6746,  34.4199, -71.9115,  12.9910, -86.0084,\n",
      "          -6.6435,  26.7627, -26.8809]], grad_fn=<AddmmBackward0>)\n"
     ]
    }
   ],
   "source": [
    "# let's pick one architecture\n",
    "arch = search_space.clone()\n",
    "arch.sample_random_architecture(dataset_api=dataset_api)\n",
    "arch.parse()\n",
    "\n",
    "x = torch.randn(2, 3, 32, 32)\n",
    "for i in range(3):    \n",
    "    init_all(arch, torch.nn.init.normal_, mean=0., std=1.)\n",
    "    result = arch(x)\n",
    "    print(result)"
   ]
  },
  {
   "cell_type": "code",
   "execution_count": 105,
   "id": "a23e30c9-00f1-4d32-9357-020c755fbf06",
   "metadata": {},
   "outputs": [],
   "source": [
    "\n",
    "\n"
   ]
  }
 ],
 "metadata": {
  "kernelspec": {
   "display_name": "Python 3 (ipykernel)",
   "language": "python",
   "name": "python3"
  },
  "language_info": {
   "codemirror_mode": {
    "name": "ipython",
    "version": 3
   },
   "file_extension": ".py",
   "mimetype": "text/x-python",
   "name": "python",
   "nbconvert_exporter": "python",
   "pygments_lexer": "ipython3",
   "version": "3.8.0"
  }
 },
 "nbformat": 4,
 "nbformat_minor": 5
}
